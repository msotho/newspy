{
 "cells": [
  {
   "cell_type": "code",
   "execution_count": 2,
   "metadata": {
    "collapsed": true,
    "ExecuteTime": {
     "end_time": "2023-07-07T05:14:14.395081Z",
     "start_time": "2023-07-07T05:14:12.408057Z"
    }
   },
   "outputs": [
    {
     "name": "stdout",
     "output_type": "stream",
     "text": [
      "Requirement already satisfied: newspy in /Users/msotho/Projects/msotho/newspy/.venv/lib/python3.10/site-packages (1.2.0)\r\n",
      "Requirement already satisfied: requests==2.31.0 in /Users/msotho/Projects/msotho/newspy/.venv/lib/python3.10/site-packages (from newspy) (2.31.0)\r\n",
      "Requirement already satisfied: charset-normalizer<4,>=2 in /Users/msotho/Projects/msotho/newspy/.venv/lib/python3.10/site-packages (from requests==2.31.0->newspy) (3.1.0)\r\n",
      "Requirement already satisfied: urllib3<3,>=1.21.1 in /Users/msotho/Projects/msotho/newspy/.venv/lib/python3.10/site-packages (from requests==2.31.0->newspy) (2.0.3)\r\n",
      "Requirement already satisfied: idna<4,>=2.5 in /Users/msotho/Projects/msotho/newspy/.venv/lib/python3.10/site-packages (from requests==2.31.0->newspy) (3.4)\r\n",
      "Requirement already satisfied: certifi>=2017.4.17 in /Users/msotho/Projects/msotho/newspy/.venv/lib/python3.10/site-packages (from requests==2.31.0->newspy) (2023.5.7)\r\n",
      "\r\n",
      "\u001B[1m[\u001B[0m\u001B[34;49mnotice\u001B[0m\u001B[1;39;49m]\u001B[0m\u001B[39;49m A new release of pip available: \u001B[0m\u001B[31;49m22.2.1\u001B[0m\u001B[39;49m -> \u001B[0m\u001B[32;49m23.1.2\u001B[0m\r\n",
      "\u001B[1m[\u001B[0m\u001B[34;49mnotice\u001B[0m\u001B[1;39;49m]\u001B[0m\u001B[39;49m To update, run: \u001B[0m\u001B[32;49mpip install --upgrade pip\u001B[0m\r\n"
     ]
    },
    {
     "ename": "NewspyHttpException",
     "evalue": "status code: 400, message: https://newsapi.org/v2/top-headlines?apiKey=f8c6d652e08143218ab9cbc4c30b8ead&pageSize=100&page=1:\n None, reason: None",
     "output_type": "error",
     "traceback": [
      "\u001B[0;31m---------------------------------------------------------------------------\u001B[0m",
      "\u001B[0;31mHTTPError\u001B[0m                                 Traceback (most recent call last)",
      "File \u001B[0;32m~/Projects/msotho/newspy/newspy/shared/http_client.py:101\u001B[0m, in \u001B[0;36mHttpClient.send\u001B[0;34m(self, method, url, headers, params, payload)\u001B[0m\n\u001B[1;32m     92\u001B[0m response \u001B[38;5;241m=\u001B[39m \u001B[38;5;28mself\u001B[39m\u001B[38;5;241m.\u001B[39m_session\u001B[38;5;241m.\u001B[39mrequest(\n\u001B[1;32m     93\u001B[0m     method,\n\u001B[1;32m     94\u001B[0m     url,\n\u001B[0;32m   (...)\u001B[0m\n\u001B[1;32m     98\u001B[0m     \u001B[38;5;241m*\u001B[39m\u001B[38;5;241m*\u001B[39margs,\n\u001B[1;32m     99\u001B[0m )\n\u001B[0;32m--> 101\u001B[0m \u001B[43mresponse\u001B[49m\u001B[38;5;241;43m.\u001B[39;49m\u001B[43mraise_for_status\u001B[49m\u001B[43m(\u001B[49m\u001B[43m)\u001B[49m\n\u001B[1;32m    103\u001B[0m \u001B[38;5;28;01mif\u001B[39;00m headers[\u001B[38;5;124m\"\u001B[39m\u001B[38;5;124mContent-Type\u001B[39m\u001B[38;5;124m\"\u001B[39m] \u001B[38;5;241m==\u001B[39m \u001B[38;5;124m\"\u001B[39m\u001B[38;5;124mapplication/json\u001B[39m\u001B[38;5;124m\"\u001B[39m:\n",
      "File \u001B[0;32m~/Projects/msotho/newspy/.venv/lib/python3.10/site-packages/requests/models.py:1021\u001B[0m, in \u001B[0;36mResponse.raise_for_status\u001B[0;34m(self)\u001B[0m\n\u001B[1;32m   1020\u001B[0m \u001B[38;5;28;01mif\u001B[39;00m http_error_msg:\n\u001B[0;32m-> 1021\u001B[0m     \u001B[38;5;28;01mraise\u001B[39;00m HTTPError(http_error_msg, response\u001B[38;5;241m=\u001B[39m\u001B[38;5;28mself\u001B[39m)\n",
      "\u001B[0;31mHTTPError\u001B[0m: 400 Client Error: Bad Request for url: https://newsapi.org/v2/top-headlines?apiKey=f8c6d652e08143218ab9cbc4c30b8ead&pageSize=100&page=1",
      "\nDuring handling of the above exception, another exception occurred:\n",
      "\u001B[0;31mNewspyHttpException\u001B[0m                       Traceback (most recent call last)",
      "Cell \u001B[0;32mIn[2], line 6\u001B[0m\n\u001B[1;32m      3\u001B[0m \u001B[38;5;28;01mfrom\u001B[39;00m \u001B[38;5;21;01mnewspy\u001B[39;00m \u001B[38;5;28;01mimport\u001B[39;00m Newspy\n\u001B[1;32m      5\u001B[0m client \u001B[38;5;241m=\u001B[39m Newspy(newsorg_key\u001B[38;5;241m=\u001B[39m\u001B[38;5;124m\"\u001B[39m\u001B[38;5;124mf8c6d652e08143218ab9cbc4c30b8ead\u001B[39m\u001B[38;5;124m\"\u001B[39m)\n\u001B[0;32m----> 6\u001B[0m \u001B[43mclient\u001B[49m\u001B[38;5;241;43m.\u001B[39;49m\u001B[43mpublications\u001B[49m\u001B[43m(\u001B[49m\u001B[43m)\u001B[49m\n",
      "File \u001B[0;32m~/Projects/msotho/newspy/newspy/client.py:15\u001B[0m, in \u001B[0;36mNewspy.publications\u001B[0;34m(self)\u001B[0m\n\u001B[1;32m     10\u001B[0m \u001B[38;5;28;01mdef\u001B[39;00m \u001B[38;5;21mpublications\u001B[39m(\u001B[38;5;28mself\u001B[39m) \u001B[38;5;241m-\u001B[39m\u001B[38;5;241m>\u001B[39m \u001B[38;5;28mlist\u001B[39m[Publication]:\n\u001B[1;32m     11\u001B[0m     newsorg_client \u001B[38;5;241m=\u001B[39m NewsorgClient(\n\u001B[1;32m     12\u001B[0m         http_client\u001B[38;5;241m=\u001B[39mHttpClient(), api_key\u001B[38;5;241m=\u001B[39m\u001B[38;5;28mself\u001B[39m\u001B[38;5;241m.\u001B[39m_newsorg_key\n\u001B[1;32m     13\u001B[0m     )\n\u001B[0;32m---> 15\u001B[0m     \u001B[38;5;28;01mreturn\u001B[39;00m \u001B[43mnewsorg_client\u001B[49m\u001B[38;5;241;43m.\u001B[39;49m\u001B[43mpublications\u001B[49m\u001B[43m(\u001B[49m\u001B[43mendpoint\u001B[49m\u001B[38;5;241;43m=\u001B[39;49m\u001B[43mNewsorgEndpoint\u001B[49m\u001B[38;5;241;43m.\u001B[39;49m\u001B[43mTOP_HEADLINES\u001B[49m\u001B[43m)\u001B[49m\n",
      "File \u001B[0;32m~/Projects/msotho/newspy/newspy/newsorg/client.py:69\u001B[0m, in \u001B[0;36mNewsorgClient.publications\u001B[0;34m(self, endpoint, search_text, category, country, sources)\u001B[0m\n\u001B[1;32m     66\u001B[0m \u001B[38;5;28;01mif\u001B[39;00m sources \u001B[38;5;129;01mand\u001B[39;00m \u001B[38;5;28mlen\u001B[39m(sources) \u001B[38;5;241m>\u001B[39m \u001B[38;5;241m0\u001B[39m:\n\u001B[1;32m     67\u001B[0m     params[\u001B[38;5;124m\"\u001B[39m\u001B[38;5;124msources\u001B[39m\u001B[38;5;124m\"\u001B[39m] \u001B[38;5;241m=\u001B[39m \u001B[38;5;124m\"\u001B[39m\u001B[38;5;124m,\u001B[39m\u001B[38;5;124m\"\u001B[39m\u001B[38;5;241m.\u001B[39mjoin([source\u001B[38;5;241m.\u001B[39mid \u001B[38;5;28;01mfor\u001B[39;00m source \u001B[38;5;129;01min\u001B[39;00m sources])\n\u001B[0;32m---> 69\u001B[0m resp_json \u001B[38;5;241m=\u001B[39m \u001B[38;5;28;43mself\u001B[39;49m\u001B[38;5;241;43m.\u001B[39;49m\u001B[43m_http_client\u001B[49m\u001B[38;5;241;43m.\u001B[39;49m\u001B[43msend\u001B[49m\u001B[43m(\u001B[49m\n\u001B[1;32m     70\u001B[0m \u001B[43m    \u001B[49m\u001B[43mmethod\u001B[49m\u001B[38;5;241;43m=\u001B[39;49m\u001B[43mHttpMethod\u001B[49m\u001B[38;5;241;43m.\u001B[39;49m\u001B[43mGET\u001B[49m\u001B[43m,\u001B[49m\u001B[43m \u001B[49m\u001B[43murl\u001B[49m\u001B[38;5;241;43m=\u001B[39;49m\u001B[43mcreate_url\u001B[49m\u001B[43m(\u001B[49m\u001B[43mendpoint\u001B[49m\u001B[38;5;241;43m=\u001B[39;49m\u001B[43mendpoint\u001B[49m\u001B[43m)\u001B[49m\u001B[43m,\u001B[49m\u001B[43m \u001B[49m\u001B[43mparams\u001B[49m\u001B[38;5;241;43m=\u001B[39;49m\u001B[43mparams\u001B[49m\n\u001B[1;32m     71\u001B[0m \u001B[43m\u001B[49m\u001B[43m)\u001B[49m\n\u001B[1;32m     73\u001B[0m \u001B[38;5;28;01mtry\u001B[39;00m:\n\u001B[1;32m     74\u001B[0m     article_res \u001B[38;5;241m=\u001B[39m NewsorgArticlesRes(\u001B[38;5;241m*\u001B[39m\u001B[38;5;241m*\u001B[39mresp_json)\n",
      "File \u001B[0;32m~/Projects/msotho/newspy/newspy/shared/http_client.py:120\u001B[0m, in \u001B[0;36mHttpClient.send\u001B[0;34m(self, method, url, headers, params, payload)\u001B[0m\n\u001B[1;32m    117\u001B[0m         msg \u001B[38;5;241m=\u001B[39m response\u001B[38;5;241m.\u001B[39mtext \u001B[38;5;129;01mor\u001B[39;00m \u001B[38;5;28;01mNone\u001B[39;00m\n\u001B[1;32m    118\u001B[0m         reason \u001B[38;5;241m=\u001B[39m \u001B[38;5;28;01mNone\u001B[39;00m\n\u001B[0;32m--> 120\u001B[0m     \u001B[38;5;28;01mraise\u001B[39;00m NewspyHttpException(\n\u001B[1;32m    121\u001B[0m         status_code\u001B[38;5;241m=\u001B[39mresponse\u001B[38;5;241m.\u001B[39mstatus_code,\n\u001B[1;32m    122\u001B[0m         msg\u001B[38;5;241m=\u001B[39m\u001B[38;5;124m\"\u001B[39m\u001B[38;5;132;01m%s\u001B[39;00m\u001B[38;5;124m:\u001B[39m\u001B[38;5;130;01m\\n\u001B[39;00m\u001B[38;5;124m \u001B[39m\u001B[38;5;132;01m%s\u001B[39;00m\u001B[38;5;124m\"\u001B[39m \u001B[38;5;241m%\u001B[39m (response\u001B[38;5;241m.\u001B[39murl, msg),\n\u001B[1;32m    123\u001B[0m         reason\u001B[38;5;241m=\u001B[39mreason,\n\u001B[1;32m    124\u001B[0m         headers\u001B[38;5;241m=\u001B[39mresponse\u001B[38;5;241m.\u001B[39mheaders,\n\u001B[1;32m    125\u001B[0m     )\n\u001B[1;32m    126\u001B[0m \u001B[38;5;28;01mexcept\u001B[39;00m requests\u001B[38;5;241m.\u001B[39mexceptions\u001B[38;5;241m.\u001B[39mRetryError \u001B[38;5;28;01mas\u001B[39;00m retry_error:\n\u001B[1;32m    127\u001B[0m     request \u001B[38;5;241m=\u001B[39m retry_error\u001B[38;5;241m.\u001B[39mrequest\n",
      "\u001B[0;31mNewspyHttpException\u001B[0m: status code: 400, message: https://newsapi.org/v2/top-headlines?apiKey=f8c6d652e08143218ab9cbc4c30b8ead&pageSize=100&page=1:\n None, reason: None"
     ]
    }
   ],
   "source": [
    "!pip install newspy\n",
    "\n",
    "import os\n",
    "\n",
    "from newspy import Newspy\n",
    "\n",
    "newsorg_key = os.getenv(\"NEWSORG_KEY\")\n",
    "\n",
    "client = Newspy(newsorg_key=newsorg_key)\n",
    "client.publications()"
   ]
  },
  {
   "cell_type": "code",
   "execution_count": null,
   "outputs": [],
   "source": [],
   "metadata": {
    "collapsed": false
   }
  }
 ],
 "metadata": {
  "kernelspec": {
   "display_name": "Python 3",
   "language": "python",
   "name": "python3"
  },
  "language_info": {
   "codemirror_mode": {
    "name": "ipython",
    "version": 2
   },
   "file_extension": ".py",
   "mimetype": "text/x-python",
   "name": "python",
   "nbconvert_exporter": "python",
   "pygments_lexer": "ipython2",
   "version": "2.7.6"
  }
 },
 "nbformat": 4,
 "nbformat_minor": 0
}
