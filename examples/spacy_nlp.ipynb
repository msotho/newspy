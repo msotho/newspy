{
 "cells": [
  {
   "cell_type": "code",
   "execution_count": 40,
   "id": "initial_id",
   "metadata": {
    "collapsed": true,
    "ExecuteTime": {
     "end_time": "2023-09-03T20:07:14.744204Z",
     "start_time": "2023-09-03T20:07:07.904784Z"
    }
   },
   "outputs": [],
   "source": [
    "%%capture\n",
    "!pip install -U newspy polars spacy\n",
    "!python -m spacy download en_core_web_sm\n",
    "!python -m spacy download textcat_multilabel\n",
    "\n",
    "from dataclasses import dataclass\n",
    "from datetime import datetime\n",
    "\n",
    "\n",
    "@dataclass\n",
    "class Entity:\n",
    "    name: str\n",
    "    label: str\n",
    "\n",
    "    def __str__(self) -> str:\n",
    "        return f\"{self.name}:{self.label}\"\n",
    "\n",
    "\n",
    "@dataclass\n",
    "class Article:\n",
    "    title: str\n",
    "    url: str\n",
    "    abstract: str\n",
    "    published: datetime\n",
    "    source: str\n",
    "    entities: str\n"
   ]
  },
  {
   "cell_type": "code",
   "execution_count": 41,
   "outputs": [],
   "source": [
    "import spacy\n",
    "import polars as pl\n",
    "\n",
    "from newspy import client as newspy\n",
    "from newspy.models import Language\n",
    "\n",
    "newsorg_api_key = \"NEWSAPI_API_KEY\"\n",
    "newspy.configure(newsorg_api_key=newsorg_api_key)\n",
    "\n",
    "nlp = spacy.load(\"en_core_web_sm\")\n",
    "\n",
    "articles = newspy.get_articles(language=Language.EN)\n",
    "## articles = rss.get_articles()\n",
    "\n",
    "articles_nlp = []\n",
    "for article in articles:\n",
    "    if article.abstract is None:\n",
    "        continue\n",
    "\n",
    "    text = \". \".join([article.title, article.abstract])\n",
    "\n",
    "    entities = [Entity(name=ent.text, label=ent.label_) for ent in nlp(text, disable=['tok2vec', 'tagger', 'parser',\n",
    "                                                                                      'senter', 'attribute_ruler',\n",
    "                                                                                      'lemmatizer']).ents]\n",
    "    articles_nlp.append(\n",
    "        Article(\n",
    "            source=str(article.source),\n",
    "            url=article.url,\n",
    "            title=article.title,\n",
    "            abstract=article.abstract,\n",
    "            published=article.published,\n",
    "            entities=\", \".join([str(ent) for ent in entities])\n",
    "        )\n",
    "    )\n",
    "\n",
    "articles_nlp_df = pl.DataFrame(articles_nlp)\n",
    "\n",
    "articles_nlp_df.write_csv(f\"scratchpad/articles_nlp_{datetime.now().strftime('%Y-%m-%d_%H-%M-%S')}.csv\")"
   ],
   "metadata": {
    "collapsed": false,
    "ExecuteTime": {
     "end_time": "2023-09-03T20:07:19.172256Z",
     "start_time": "2023-09-03T20:07:17.191524Z"
    }
   },
   "id": "d13a76cf3045afc5"
  },
  {
   "cell_type": "code",
   "execution_count": null,
   "outputs": [],
   "source": [],
   "metadata": {
    "collapsed": false
   },
   "id": "7c202ebad819975a"
  }
 ],
 "metadata": {
  "kernelspec": {
   "display_name": "Python 3",
   "language": "python",
   "name": "python3"
  },
  "language_info": {
   "codemirror_mode": {
    "name": "ipython",
    "version": 2
   },
   "file_extension": ".py",
   "mimetype": "text/x-python",
   "name": "python",
   "nbconvert_exporter": "python",
   "pygments_lexer": "ipython2",
   "version": "2.7.6"
  }
 },
 "nbformat": 4,
 "nbformat_minor": 5
}
